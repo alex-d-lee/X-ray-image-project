{
 "cells": [
  {
   "cell_type": "markdown",
   "id": "6a62b17f-6c30-448e-805d-12ec4aeffef7",
   "metadata": {},
   "source": [
    "# X-Ray Project\n",
    "\n",
    "### By Alex Lee"
   ]
  },
  {
   "cell_type": "code",
   "execution_count": 1,
   "id": "8b3944e8-6a85-4290-a69a-0cb815f24823",
   "metadata": {},
   "outputs": [],
   "source": [
    "# import statements\n",
    "import pandas as pd\n",
    "import numpy as np\n",
    "import matplotlib.pyplot as plt\n",
    "import seaborn as sns\n",
    "import sklearn as sk"
   ]
  },
  {
   "cell_type": "code",
   "execution_count": null,
   "id": "71b3468b-246d-431c-b81f-db4f0617b7b2",
   "metadata": {},
   "outputs": [],
   "source": [
    "# Load Datasets\n",
    "\n",
    "x_ray = pd.read_csv(\"\")"
   ]
  }
 ],
 "metadata": {
  "kernelspec": {
   "display_name": "Python 3 (ipykernel)",
   "language": "python",
   "name": "python3"
  },
  "language_info": {
   "codemirror_mode": {
    "name": "ipython",
    "version": 3
   },
   "file_extension": ".py",
   "mimetype": "text/x-python",
   "name": "python",
   "nbconvert_exporter": "python",
   "pygments_lexer": "ipython3",
   "version": "3.11.6"
  }
 },
 "nbformat": 4,
 "nbformat_minor": 5
}
